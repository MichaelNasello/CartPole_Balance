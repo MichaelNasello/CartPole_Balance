{
 "nbformat": 4,
 "nbformat_minor": 0,
 "metadata": {
  "kernelspec": {
   "name": "python3",
   "display_name": "Python 3"
  },
  "language_info": {
   "codemirror_mode": {
    "name": "ipython",
    "version": 2
   },
   "file_extension": ".py",
   "mimetype": "text/x-python",
   "name": "python",
   "nbconvert_exporter": "python",
   "pygments_lexer": "ipython2",
   "version": "2.7.6"
  },
  "pycharm": {
   "stem_cell": {
    "cell_type": "raw",
    "source": [],
    "metadata": {
     "collapsed": false
    }
   }
  },
  "colab": {
   "name": "colab_train.ipynb",
   "provenance": [],
   "collapsed_sections": []
  },
  "accelerator": "TPU"
 },
 "cells": [
  {
   "cell_type": "code",
   "metadata": {
    "id": "WZ3fBR1w-usJ",
    "colab_type": "code",
    "outputId": "8d1254cd-531d-4fa1-dff4-10aad65c86fb",
    "executionInfo": {
     "status": "ok",
     "timestamp": 1581392781031,
     "user_tz": 300,
     "elapsed": 345,
     "user": {
      "displayName": "Mike Nasello",
      "photoUrl": "",
      "userId": "06542512009505805694"
     }
    },
    "colab": {
     "base_uri": "https://localhost:8080/",
     "height": 34
    }
   },
   "source": [
    "from google.colab import drive\n",
    "drive.mount('/content/drive')"
   ],
   "execution_count": 0,
   "outputs": [
    {
     "output_type": "stream",
     "text": [
      "Drive already mounted at /content/drive; to attempt to forcibly remount, call drive.mount(\"/content/drive\", force_remount=True).\n"
     ],
     "name": "stdout"
    }
   ]
  },
  {
   "cell_type": "code",
   "metadata": {
    "id": "I7j9LjUIA0Y4",
    "colab_type": "code",
    "outputId": "36a0e843-9fa2-483e-a980-b1295136269d",
    "executionInfo": {
     "status": "ok",
     "timestamp": 1581392785207,
     "user_tz": 300,
     "elapsed": 3308,
     "user": {
      "displayName": "Mike Nasello",
      "photoUrl": "",
      "userId": "06542512009505805694"
     }
    },
    "colab": {
     "base_uri": "https://localhost:8080/",
     "height": 615
    }
   },
   "source": [
    "pip install tensorflow==2.0.0"
   ],
   "execution_count": 0,
   "outputs": [
    {
     "output_type": "stream",
     "text": [
      "Requirement already satisfied: tensorflow==2.0.0 in /usr/local/lib/python3.6/dist-packages (2.0.0)\n",
      "Requirement already satisfied: absl-py>=0.7.0 in /usr/local/lib/python3.6/dist-packages (from tensorflow==2.0.0) (0.9.0)\n",
      "Requirement already satisfied: astor>=0.6.0 in /usr/local/lib/python3.6/dist-packages (from tensorflow==2.0.0) (0.8.1)\n",
      "Requirement already satisfied: wrapt>=1.11.1 in /usr/local/lib/python3.6/dist-packages (from tensorflow==2.0.0) (1.11.2)\n",
      "Requirement already satisfied: opt-einsum>=2.3.2 in /usr/local/lib/python3.6/dist-packages (from tensorflow==2.0.0) (3.1.0)\n",
      "Requirement already satisfied: gast==0.2.2 in /usr/local/lib/python3.6/dist-packages (from tensorflow==2.0.0) (0.2.2)\n",
      "Requirement already satisfied: six>=1.10.0 in /usr/local/lib/python3.6/dist-packages (from tensorflow==2.0.0) (1.12.0)\n",
      "Requirement already satisfied: tensorflow-estimator<2.1.0,>=2.0.0 in /usr/local/lib/python3.6/dist-packages (from tensorflow==2.0.0) (2.0.1)\n",
      "Requirement already satisfied: google-pasta>=0.1.6 in /usr/local/lib/python3.6/dist-packages (from tensorflow==2.0.0) (0.1.8)\n",
      "Requirement already satisfied: termcolor>=1.1.0 in /usr/local/lib/python3.6/dist-packages (from tensorflow==2.0.0) (1.1.0)\n",
      "Requirement already satisfied: tensorboard<2.1.0,>=2.0.0 in /usr/local/lib/python3.6/dist-packages (from tensorflow==2.0.0) (2.0.2)\n",
      "Requirement already satisfied: protobuf>=3.6.1 in /usr/local/lib/python3.6/dist-packages (from tensorflow==2.0.0) (3.10.0)\n",
      "Requirement already satisfied: grpcio>=1.8.6 in /usr/local/lib/python3.6/dist-packages (from tensorflow==2.0.0) (1.15.0)\n",
      "Requirement already satisfied: keras-applications>=1.0.8 in /usr/local/lib/python3.6/dist-packages (from tensorflow==2.0.0) (1.0.8)\n",
      "Requirement already satisfied: numpy<2.0,>=1.16.0 in /usr/local/lib/python3.6/dist-packages (from tensorflow==2.0.0) (1.17.5)\n",
      "Requirement already satisfied: wheel>=0.26 in /usr/local/lib/python3.6/dist-packages (from tensorflow==2.0.0) (0.34.2)\n",
      "Requirement already satisfied: keras-preprocessing>=1.0.5 in /usr/local/lib/python3.6/dist-packages (from tensorflow==2.0.0) (1.1.0)\n",
      "Requirement already satisfied: google-auth-oauthlib<0.5,>=0.4.1 in /usr/local/lib/python3.6/dist-packages (from tensorboard<2.1.0,>=2.0.0->tensorflow==2.0.0) (0.4.1)\n",
      "Requirement already satisfied: google-auth<2,>=1.6.3 in /usr/local/lib/python3.6/dist-packages (from tensorboard<2.1.0,>=2.0.0->tensorflow==2.0.0) (1.11.0)\n",
      "Requirement already satisfied: setuptools>=41.0.0 in /usr/local/lib/python3.6/dist-packages (from tensorboard<2.1.0,>=2.0.0->tensorflow==2.0.0) (45.1.0)\n",
      "Requirement already satisfied: werkzeug>=0.11.15 in /usr/local/lib/python3.6/dist-packages (from tensorboard<2.1.0,>=2.0.0->tensorflow==2.0.0) (0.16.1)\n",
      "Requirement already satisfied: markdown>=2.6.8 in /usr/local/lib/python3.6/dist-packages (from tensorboard<2.1.0,>=2.0.0->tensorflow==2.0.0) (3.1.1)\n",
      "Requirement already satisfied: requests<3,>=2.21.0 in /usr/local/lib/python3.6/dist-packages (from tensorboard<2.1.0,>=2.0.0->tensorflow==2.0.0) (2.21.0)\n",
      "Requirement already satisfied: h5py in /usr/local/lib/python3.6/dist-packages (from keras-applications>=1.0.8->tensorflow==2.0.0) (2.8.0)\n",
      "Requirement already satisfied: requests-oauthlib>=0.7.0 in /usr/local/lib/python3.6/dist-packages (from google-auth-oauthlib<0.5,>=0.4.1->tensorboard<2.1.0,>=2.0.0->tensorflow==2.0.0) (1.3.0)\n",
      "Requirement already satisfied: cachetools<5.0,>=2.0.0 in /usr/local/lib/python3.6/dist-packages (from google-auth<2,>=1.6.3->tensorboard<2.1.0,>=2.0.0->tensorflow==2.0.0) (4.0.0)\n",
      "Requirement already satisfied: pyasn1-modules>=0.2.1 in /usr/local/lib/python3.6/dist-packages (from google-auth<2,>=1.6.3->tensorboard<2.1.0,>=2.0.0->tensorflow==2.0.0) (0.2.8)\n",
      "Requirement already satisfied: rsa<4.1,>=3.1.4 in /usr/local/lib/python3.6/dist-packages (from google-auth<2,>=1.6.3->tensorboard<2.1.0,>=2.0.0->tensorflow==2.0.0) (4.0)\n",
      "Requirement already satisfied: urllib3<1.25,>=1.21.1 in /usr/local/lib/python3.6/dist-packages (from requests<3,>=2.21.0->tensorboard<2.1.0,>=2.0.0->tensorflow==2.0.0) (1.24.3)\n",
      "Requirement already satisfied: certifi>=2017.4.17 in /usr/local/lib/python3.6/dist-packages (from requests<3,>=2.21.0->tensorboard<2.1.0,>=2.0.0->tensorflow==2.0.0) (2019.11.28)\n",
      "Requirement already satisfied: chardet<3.1.0,>=3.0.2 in /usr/local/lib/python3.6/dist-packages (from requests<3,>=2.21.0->tensorboard<2.1.0,>=2.0.0->tensorflow==2.0.0) (3.0.4)\n",
      "Requirement already satisfied: idna<2.9,>=2.5 in /usr/local/lib/python3.6/dist-packages (from requests<3,>=2.21.0->tensorboard<2.1.0,>=2.0.0->tensorflow==2.0.0) (2.8)\n",
      "Requirement already satisfied: oauthlib>=3.0.0 in /usr/local/lib/python3.6/dist-packages (from requests-oauthlib>=0.7.0->google-auth-oauthlib<0.5,>=0.4.1->tensorboard<2.1.0,>=2.0.0->tensorflow==2.0.0) (3.1.0)\n",
      "Requirement already satisfied: pyasn1<0.5.0,>=0.4.6 in /usr/local/lib/python3.6/dist-packages (from pyasn1-modules>=0.2.1->google-auth<2,>=1.6.3->tensorboard<2.1.0,>=2.0.0->tensorflow==2.0.0) (0.4.8)\n"
     ],
     "name": "stdout"
    }
   ]
  },
  {
   "cell_type": "code",
   "metadata": {
    "id": "7vwwhywJ_qST",
    "colab_type": "code",
    "outputId": "12a17487-f923-4f22-f3bd-349bef6bbe87",
    "executionInfo": {
     "status": "ok",
     "timestamp": 1581392793705,
     "user_tz": 300,
     "elapsed": 4540,
     "user": {
      "displayName": "Mike Nasello",
      "photoUrl": "",
      "userId": "06542512009505805694"
     }
    },
    "colab": {
     "base_uri": "https://localhost:8080/",
     "height": 377
    }
   },
   "source": [
    "pip install -r '/content/drive/My Drive/Colab Notebooks/RL-CartPole Project/requirements.txt'"
   ],
   "execution_count": 0,
   "outputs": [
    {
     "output_type": "stream",
     "text": [
      "Collecting absl-py==0.8.1\n",
      "  Using cached https://files.pythonhosted.org/packages/3b/72/e6e483e2db953c11efa44ee21c5fdb6505c4dffa447b4263ca8af6676b62/absl-py-0.8.1.tar.gz\n",
      "Collecting astor==0.8.0\n",
      "  Using cached https://files.pythonhosted.org/packages/d1/4f/950dfae467b384fc96bc6469de25d832534f6b4441033c39f914efd13418/astor-0.8.0-py2.py3-none-any.whl\n",
      "Requirement already satisfied: certifi==2019.11.28 in /usr/local/lib/python3.6/dist-packages (from -r /content/drive/My Drive/Colab Notebooks/RL-CartPole Project/requirements.txt (line 3)) (2019.11.28)\n",
      "Requirement already satisfied: cloudpickle==1.2.2 in /usr/local/lib/python3.6/dist-packages (from -r /content/drive/My Drive/Colab Notebooks/RL-CartPole Project/requirements.txt (line 4)) (1.2.2)\n",
      "Collecting future==0.18.2\n",
      "  Using cached https://files.pythonhosted.org/packages/45/0b/38b06fd9b92dc2b68d58b75f900e97884c45bedd2ff83203d933cf5851c9/future-0.18.2.tar.gz\n",
      "Requirement already satisfied: gast==0.2.2 in /usr/local/lib/python3.6/dist-packages (from -r /content/drive/My Drive/Colab Notebooks/RL-CartPole Project/requirements.txt (line 6)) (0.2.2)\n",
      "Requirement already satisfied: google-pasta==0.1.8 in /usr/local/lib/python3.6/dist-packages (from -r /content/drive/My Drive/Colab Notebooks/RL-CartPole Project/requirements.txt (line 7)) (0.1.8)\n",
      "Collecting grpcio==1.16.1\n",
      "  Using cached https://files.pythonhosted.org/packages/0e/4f/e9e84e4600c43cae7ce58489c6e73ff4c864557bc4d4d0f0029c79e07f31/grpcio-1.16.1-cp36-cp36m-manylinux1_x86_64.whl\n",
      "Requirement already satisfied: gym==0.15.6 in /usr/local/lib/python3.6/dist-packages (from -r /content/drive/My Drive/Colab Notebooks/RL-CartPole Project/requirements.txt (line 9)) (0.15.6)\n",
      "Collecting h5py==2.10.0\n",
      "  Using cached https://files.pythonhosted.org/packages/60/06/cafdd44889200e5438b897388f3075b52a8ef01f28a17366d91de0fa2d05/h5py-2.10.0-cp36-cp36m-manylinux1_x86_64.whl\n",
      "Requirement already satisfied: Keras-Applications==1.0.8 in /usr/local/lib/python3.6/dist-packages (from -r /content/drive/My Drive/Colab Notebooks/RL-CartPole Project/requirements.txt (line 11)) (1.0.8)\n",
      "Requirement already satisfied: Keras-Preprocessing==1.1.0 in /usr/local/lib/python3.6/dist-packages (from -r /content/drive/My Drive/Colab Notebooks/RL-CartPole Project/requirements.txt (line 12)) (1.1.0)\n",
      "Requirement already satisfied: Markdown==3.1.1 in /usr/local/lib/python3.6/dist-packages (from -r /content/drive/My Drive/Colab Notebooks/RL-CartPole Project/requirements.txt (line 13)) (3.1.1)\n",
      "\u001b[31mERROR: Could not find a version that satisfies the requirement mkl-fft==1.0.15 (from -r /content/drive/My Drive/Colab Notebooks/RL-CartPole Project/requirements.txt (line 14)) (from versions: 1.0.0.17, 1.0.2, 1.0.6)\u001b[0m\n",
      "\u001b[31mERROR: No matching distribution found for mkl-fft==1.0.15 (from -r /content/drive/My Drive/Colab Notebooks/RL-CartPole Project/requirements.txt (line 14))\u001b[0m\n"
     ],
     "name": "stdout"
    }
   ]
  },
  {
   "cell_type": "code",
   "metadata": {
    "id": "6Euvin8U-kby",
    "colab_type": "code",
    "colab": {
     "base_uri": "https://localhost:8080/",
     "height": 63
    },
    "outputId": "e5fe7f95-ebd5-49e9-cd7d-ed9554e5f563",
    "executionInfo": {
     "status": "ok",
     "timestamp": 1581535783254,
     "user_tz": 300,
     "elapsed": 1914,
     "user": {
      "displayName": "Mike Nasello",
      "photoUrl": "",
      "userId": "06542512009505805694"
     }
    }
   },
   "source": [
    "import tensorflow as tf\n",
    "import numpy as np\n",
    "import gym\n",
    "import yaml\n",
    "import os"
   ],
   "execution_count": 1,
   "outputs": [
    {
     "output_type": "display_data",
     "data": {
      "text/html": [
       "<p style=\"color: red;\">\n",
       "The default version of TensorFlow in Colab will soon switch to TensorFlow 2.x.<br>\n",
       "We recommend you <a href=\"https://www.tensorflow.org/guide/migrate\" target=\"_blank\">upgrade</a> now \n",
       "or ensure your notebook will continue to use TensorFlow 1.x via the <code>%tensorflow_version 1.x</code> magic:\n",
       "<a href=\"https://colab.research.google.com/notebooks/tensorflow_version.ipynb\" target=\"_blank\">more info</a>.</p>\n"
      ],
      "text/plain": [
       "<IPython.core.display.HTML object>"
      ]
     },
     "metadata": {
      "tags": []
     }
    }
   ]
  },
  {
   "cell_type": "code",
   "metadata": {
    "pycharm": {
     "name": "#%%\n"
    },
    "id": "fhoN-GCd-kb4",
    "colab_type": "code",
    "colab": {}
   },
   "source": [
    "def model_v1():\n",
    "    model = tf.keras.Sequential()\n",
    "    model.add(tf.keras.layers.Dense(units = 32, input_dim = 4, activation = 'relu', dtype = tf.float32))\n",
    "    model.add(tf.keras.layers.Dense(units = 2, activation = 'softmax', dtype = tf.float32))\n",
    "    return model\n",
    "\n",
    "def model_v2():\n",
    "    model = tf.keras.Sequential()\n",
    "    model.add(tf.keras.layers.Dense(units = 32, input_dim = 4, activation = 'relu', dtype = tf.float32))\n",
    "    model.add(tf.keras.layers.Dense(units = 32, input_dim = 4, activation = 'relu', dtype = tf.float32))\n",
    "    model.add(tf.keras.layers.Dense(units = 32, input_dim = 4, activation = 'relu', dtype = tf.float32))\n",
    "    model.add(tf.keras.layers.Dense(units = 2, activation = 'softmax', dtype = tf.float32))\n",
    "    return model\n",
    "\n",
    "def model_v3():\n",
    "    model = tf.keras.Sequential()\n",
    "    model.add(tf.keras.layers.Dense(units = 32, input_dim = 4, activation = 'relu', dtype = tf.float32))\n",
    "    model.add(tf.keras.layers.Dense(units = 32, input_dim = 32, activation = 'relu', dtype = tf.float32))\n",
    "    model.add(tf.keras.layers.Dense(units = 32, input_dim = 32, activation = 'relu', dtype = tf.float32))\n",
    "    model.add(tf.keras.layers.Dense(units = 32, input_dim = 32, activation = 'relu', dtype = tf.float32))\n",
    "    model.add(tf.keras.layers.Dense(units = 32, input_dim = 32, activation = 'relu', dtype = tf.float32))\n",
    "    model.add(tf.keras.layers.Dense(units = 2, activation = 'softmax', dtype = tf.float32))\n",
    "    return model\n",
    "\n",
    "def model_v4():\n",
    "    model = tf.keras.Sequential()\n",
    "    model.add(tf.keras.layers.Dense(units = 32, input_dim = 4, activation = 'relu', dtype = tf.float32))\n",
    "    model.add(tf.keras.layers.Dense(units = 32, input_dim = 4, activation = 'relu', dtype = tf.float32))\n",
    "    model.add(tf.keras.layers.Dense(units = 32, input_dim = 4, activation = 'relu', dtype = tf.float32))\n",
    "    model.add(tf.keras.layers.Dense(units = 32, input_dim = 4, activation = 'relu', dtype = tf.float32))\n",
    "    model.add(tf.keras.layers.Dense(units = 32, input_dim = 4, activation = 'relu', dtype = tf.float32))\n",
    "    model.add(tf.keras.layers.Dense(units = 2, activation = 'softmax', dtype = tf.float32))\n",
    "    return model\n",
    "\n",
    "def model_v5():\n",
    "    model = tf.keras.Sequential()\n",
    "    model.add(tf.keras.layers.Dense(units = 32, input_dim = 4, activation = 'relu', dtype = tf.float32))\n",
    "    model.add(tf.keras.layers.Dropout(rate = 0.2))\n",
    "    model.add(tf.keras.layers.Dense(units = 32, input_dim = 32, activation = 'relu', dtype = tf.float32))\n",
    "    model.add(tf.keras.layers.Dropout(rate = 0.2))\n",
    "    model.add(tf.keras.layers.Dense(units = 32, input_dim = 32, activation = 'relu', dtype = tf.float32))\n",
    "    model.add(tf.keras.layers.Dropout(rate = 0.2))\n",
    "    model.add(tf.keras.layers.Dense(units = 32, input_dim = 32, activation = 'relu', dtype = tf.float32))\n",
    "    model.add(tf.keras.layers.Dropout(rate = 0.2))\n",
    "    model.add(tf.keras.layers.Dense(units = 32, input_dim = 32, activation = 'relu', dtype = tf.float32))\n",
    "    model.add(tf.keras.layers.Dense(units = 2, activation = 'softmax', dtype = tf.float32))\n",
    "    return model"
   ],
   "execution_count": 0,
   "outputs": []
  },
  {
   "cell_type": "code",
   "metadata": {
    "pycharm": {
     "name": "#%%\n"
    },
    "id": "UpfI6M5d-kb7",
    "colab_type": "code",
    "colab": {}
   },
   "source": [
    "def discount_rewards(rewards, discount_rate = 0.8):\n",
    "  \"\"\"\n",
    "  Takes in rewards and applies discount_rate\n",
    "\n",
    "  Reward = Reward[t=0] * pow(discount_rate, 0) + ... + Reward[t=n] * pow(discount_rate, n) \n",
    "\n",
    "  :param rewards: numpy.array. The list of rewards to be discounted.\n",
    "  :param discount_rate: float. Determines the impact of future actions on current reward.\n",
    "      Valid entries in (0, 1) where a larger discount_rate forces model to consider current actions\n",
    "      to have smaller effects on future rewards.\n",
    "  :return: discounted_rewards: numpy.ndarray. Discounted rewards.\n",
    "  \"\"\"\n",
    "\n",
    "  # input checks\n",
    "  if type(rewards) != np.ndarray:\n",
    "    raise TypeError('rewards must be of type numpy.array')\n",
    "  if type(discount_rate) != float:\n",
    "    raise TypeError('discount_rate must be of type float')\n",
    "  if not 0 < discount_rate < 1:\n",
    "    raise ValueError('discount_rate must be in (0, 1)')\n",
    "\n",
    "  # applying discount in fashion described above\n",
    "  discounted_rewards = np.zeros_like(a = rewards)\n",
    "  running_total = 0\n",
    "  for i in reversed(range(0, rewards.size)):\n",
    "    running_total = running_total * discount_rate + rewards[i]\n",
    "    discounted_rewards[i] = running_total\n",
    "  return discounted_rewards"
   ],
   "execution_count": 0,
   "outputs": []
  },
  {
   "cell_type": "code",
   "metadata": {
    "pycharm": {
     "name": "#%%\n"
    },
    "id": "kcWKyt7V-kb9",
    "colab_type": "code",
    "colab": {}
   },
   "source": [
    "def train_model(num_episodes, model_version, discount_rate, learning_rate):\n",
    "    \"\"\"\n",
    "    Trains a policy model\n",
    "\n",
    "    :param num_epochs: int. Determines how many epochs to train for.\n",
    "    :param model_version: str. Provides the model architecture to use.\n",
    "    :param discount_rate: float. Determines the impact of future actions on current reward.\n",
    "      Valid entries in (0, 1) where a larger discount_rate forces model to consider current actions\n",
    "      to have smaller effects on future rewards.\n",
    "    :param learning_rate: float. Determines how far of a step is taken along gradient when training.\n",
    "    :return: None\n",
    "    \"\"\"\n",
    "\n",
    "    # getting available models\n",
    "    with open('/content/drive/My Drive/Colab Notebooks/RL-CartPole Project/model_architectures.yaml', 'r') as file:\n",
    "        available_models = yaml.safe_load(stream = file)\n",
    "        file.close()\n",
    "\n",
    "     # input checks\n",
    "    if type(num_episodes) != int:\n",
    "        raise TypeError('num_episodes must be of type int')\n",
    "    if num_episodes <= 0:\n",
    "        raise ValueError('num_episodes must be greater than zero')\n",
    "    if type(model_version) != str:\n",
    "        raise TypeError('model_version must be of type string')\n",
    "    if model_version not in available_models:\n",
    "        raise ValueError('model_version not available')\n",
    "    if type(discount_rate) != int and type(discount_rate) != float:\n",
    "        raise TypeError('discount rate must be of type int or float')\n",
    "    if discount_rate <= 0:\n",
    "        raise ValueError('discount_rate must be greater than zero')\n",
    "    if type(learning_rate) != float:\n",
    "        raise TypeError('learning_rate must be of type float')\n",
    "    if learning_rate <= 0 or learning_rate >= 1:\n",
    "        raise ValueError('learning_rate must be within (0, 1)')\n",
    "\n",
    "    # determining model sub-version\n",
    "    model_sub_version_write = False\n",
    "    sub_version = 0\n",
    "    while not model_sub_version_write:\n",
    "        if not os.path.exists(os.path.join('/content/drive/My Drive/Colab Notebooks/RL-CartPole Project/','trained_models', model_version, model_version + '.' + str(sub_version) + '.0')):\n",
    "            model_sub_version_write = True\n",
    "            break\n",
    "        sub_version += 1\n",
    "\n",
    "    # building model\n",
    "    model = eval(available_models[model_version])()\n",
    "    optimizer = tf.keras.optimizers.Adam(learning_rate = learning_rate)\n",
    "    compute_loss = tf.keras.losses.SparseCategoricalCrossentropy(from_logits = True)\n",
    "\n",
    "    # holding gradients\n",
    "    gradient_holder = model.trainable_variables\n",
    "    for i, gradient in enumerate(gradient_holder):\n",
    "        gradient_holder[i] = gradient * 0\n",
    "\n",
    "    # creating gym environment\n",
    "    env = gym.make('CartPole-v1')\n",
    "    env._max_episode_steps = 15000\n",
    "\n",
    "    scores = []\n",
    "    every_update = 5\n",
    "\n",
    "    # training loop\n",
    "    for episode in range(num_episodes + 1):\n",
    "        observation = env.reset()\n",
    "\n",
    "        episode_memory = []\n",
    "        episode_score = 0\n",
    "        done = False\n",
    "\n",
    "        while not done:\n",
    "            # creates vector of form [Position, Velocity, Angle, Angular Velocity]\n",
    "            observation = observation.reshape([1, 4])\n",
    "\n",
    "            with tf.GradientTape() as tape:\n",
    "\n",
    "                # creating loss function and action\n",
    "                logits = model(observation)\n",
    "                a_dist = logits.numpy()\n",
    "                action = np.random.choice(a = a_dist[0], p = a_dist[0])\n",
    "                action = np.argmax(a_dist == action)\n",
    "                loss = compute_loss([action], logits)\n",
    "\n",
    "            # performing action and getting feedback from environment\n",
    "            observation, reward, done, info = env.step(action)\n",
    "\n",
    "            episode_score += reward\n",
    "\n",
    "            # trick for quicker convergence\n",
    "            if done:\n",
    "                reward -= 10\n",
    "\n",
    "            # getting gradients\n",
    "            gradients = tape.gradient(target = loss, sources = model.trainable_variables)\n",
    "            episode_memory.append([gradients, reward])\n",
    "\n",
    "        scores.append(episode_score)\n",
    "\n",
    "        # discounting rewards\n",
    "        episode_memory = np.array(episode_memory)\n",
    "        episode_memory[:, 1] = discount_rewards(rewards = episode_memory[:, 1], discount_rate = discount_rate)\n",
    "\n",
    "        # applying rewards to corresponding gradients\n",
    "        for grads, reward in episode_memory:\n",
    "            for i, grad in enumerate(grads):\n",
    "                gradient_holder[i] += grad * reward\n",
    "\n",
    "        # back-propogating gradients, resetting gradients\n",
    "        if episode % every_update == 0:\n",
    "            optimizer.apply_gradients(zip(gradient_holder, model.trainable_variables))\n",
    "            for i, grad in enumerate(gradient_holder):\n",
    "                gradient_holder[i] = grad * 0\n",
    "\n",
    "        # printing progress, saving model\n",
    "        if episode % 100 == 0:\n",
    "            print('Episode {} Score {}'.format(episode, np.mean(scores[-20:])))\n",
    "            tf.keras.models.save_model(model = model,\n",
    "                                       filepath = os.path.join('/content/drive/My Drive/Colab Notebooks/RL-CartPole Project/',\n",
    "                                                               'trained_models', model_version, model_version + '.' +\n",
    "                                                               str(sub_version) +'.{}'.format(episode)))\n",
    "\n",
    "            tf.keras.models.save_model(model = model,\n",
    "                                       filepath = os.path.join('/content/',\n",
    "                                                               'trained_models', model_version, model_version + '.' +\n",
    "                                                               str(sub_version) +'.{}'.format(episode)))\n",
    "\n",
    "    final_performance = int(round(np.mean(scores[-20:])))\n",
    "\n",
    "    # dumping training results into yaml file\n",
    "    yaml_dump = {}\n",
    "    yaml_dump['Model Version'] = model_version\n",
    "    yaml_dump['Model Sub-version'] = sub_version\n",
    "    yaml_dump['Number of Training Episodes'] = num_episodes\n",
    "    yaml_dump['Discount Rate'] = discount_rate\n",
    "    yaml_dump['Learning Rate'] = learning_rate\n",
    "    yaml_dump['Final Performance'] = final_performance\n",
    "\n",
    "    # dumping training details into yaml file\n",
    "    with open(os.path.join('/content/drive/My Drive/Colab Notebooks/RL-CartPole Project/', 'trained_models', model_version, 'model_' + model_version + '.' + str(sub_version) + '_training_details.yaml'), 'w') as file:\n",
    "        yaml.dump(data = yaml_dump, stream = file)\n",
    "        file.close()\n",
    "    with open(os.path.join('/content/trained_models', model_version + '.' + str(sub_version) + '_training_details.yaml'), 'w') as file:\n",
    "        yaml.dump(data = yaml_dump, stream = file)\n",
    "        file.close()\n",
    "        "
   ],
   "execution_count": 0,
   "outputs": []
  },
  {
   "cell_type": "code",
   "metadata": {
    "pycharm": {
     "name": "#%%\n"
    },
    "id": "EjscKsDn-kcA",
    "colab_type": "code",
    "outputId": "857f3ae8-fb26-4c0b-f577-5557cfeb165a",
    "executionInfo": {
     "status": "ok",
     "timestamp": 1581394308984,
     "user_tz": 300,
     "elapsed": 1062433,
     "user": {
      "displayName": "Mike Nasello",
      "photoUrl": "",
      "userId": "06542512009505805694"
     }
    },
    "colab": {
     "base_uri": "https://localhost:8080/",
     "height": 612
    }
   },
   "source": [
    "num_episodes = 1500\n",
    "model_version = 'v5'\n",
    "discount_rate = 0.8\n",
    "learning_rate = 0.01\n",
    "\n",
    "train_model(num_episodes = num_episodes, model_version = model_version,\n",
    "                discount_rate = discount_rate, learning_rate = learning_rate)\n"
   ],
   "execution_count": 0,
   "outputs": [
    {
     "output_type": "stream",
     "text": [
      "/usr/local/lib/python3.6/dist-packages/gym/logger.py:30: UserWarning: \u001b[33mWARN: Box bound precision lowered by casting to float32\u001b[0m\n",
      "  warnings.warn(colorize('%s: %s'%('WARN', msg % args), 'yellow'))\n"
     ],
     "name": "stderr"
    },
    {
     "output_type": "stream",
     "text": [
      "Episode 0 Score 18.0\n",
      "INFO:tensorflow:Assets written to: /content/drive/My Drive/Colab Notebooks/RL-CartPole Project/trained_models/v5/v5.0.0/assets\n",
      "INFO:tensorflow:Assets written to: /content/trained_models/v5/v5.0.0/assets\n",
      "Episode 100 Score 11.35\n",
      "INFO:tensorflow:Assets written to: /content/drive/My Drive/Colab Notebooks/RL-CartPole Project/trained_models/v5/v5.0.100/assets\n",
      "INFO:tensorflow:Assets written to: /content/trained_models/v5/v5.0.100/assets\n",
      "Episode 200 Score 62.5\n",
      "INFO:tensorflow:Assets written to: /content/drive/My Drive/Colab Notebooks/RL-CartPole Project/trained_models/v5/v5.0.200/assets\n",
      "INFO:tensorflow:Assets written to: /content/trained_models/v5/v5.0.200/assets\n",
      "Episode 300 Score 42.95\n",
      "INFO:tensorflow:Assets written to: /content/drive/My Drive/Colab Notebooks/RL-CartPole Project/trained_models/v5/v5.0.300/assets\n",
      "INFO:tensorflow:Assets written to: /content/trained_models/v5/v5.0.300/assets\n",
      "Episode 400 Score 96.75\n",
      "INFO:tensorflow:Assets written to: /content/drive/My Drive/Colab Notebooks/RL-CartPole Project/trained_models/v5/v5.0.400/assets\n",
      "INFO:tensorflow:Assets written to: /content/trained_models/v5/v5.0.400/assets\n",
      "Episode 500 Score 54.1\n",
      "INFO:tensorflow:Assets written to: /content/drive/My Drive/Colab Notebooks/RL-CartPole Project/trained_models/v5/v5.0.500/assets\n",
      "INFO:tensorflow:Assets written to: /content/trained_models/v5/v5.0.500/assets\n",
      "Episode 600 Score 51.1\n",
      "INFO:tensorflow:Assets written to: /content/drive/My Drive/Colab Notebooks/RL-CartPole Project/trained_models/v5/v5.0.600/assets\n",
      "INFO:tensorflow:Assets written to: /content/trained_models/v5/v5.0.600/assets\n",
      "Episode 700 Score 71.15\n",
      "INFO:tensorflow:Assets written to: /content/drive/My Drive/Colab Notebooks/RL-CartPole Project/trained_models/v5/v5.0.700/assets\n",
      "INFO:tensorflow:Assets written to: /content/trained_models/v5/v5.0.700/assets\n",
      "Episode 800 Score 202.0\n",
      "INFO:tensorflow:Assets written to: /content/drive/My Drive/Colab Notebooks/RL-CartPole Project/trained_models/v5/v5.0.800/assets\n",
      "INFO:tensorflow:Assets written to: /content/trained_models/v5/v5.0.800/assets\n",
      "Episode 900 Score 500.0\n",
      "INFO:tensorflow:Assets written to: /content/drive/My Drive/Colab Notebooks/RL-CartPole Project/trained_models/v5/v5.0.900/assets\n",
      "INFO:tensorflow:Assets written to: /content/trained_models/v5/v5.0.900/assets\n",
      "Episode 1000 Score 500.0\n",
      "INFO:tensorflow:Assets written to: /content/drive/My Drive/Colab Notebooks/RL-CartPole Project/trained_models/v5/v5.0.1000/assets\n",
      "INFO:tensorflow:Assets written to: /content/trained_models/v5/v5.0.1000/assets\n"
     ],
     "name": "stdout"
    }
   ]
  },
  {
   "cell_type": "code",
   "metadata": {
    "id": "D6gz4ySjIEZo",
    "colab_type": "code",
    "colab": {}
   },
   "source": [
    ""
   ],
   "execution_count": 0,
   "outputs": []
  }
 ]
}