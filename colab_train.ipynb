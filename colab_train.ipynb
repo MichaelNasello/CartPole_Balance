{
 "cells": [
  {
   "cell_type": "code",
   "execution_count": null,
   "metadata": {},
   "outputs": [],
   "source": [
    "from google.colab import drive\n",
    "drive.mount('/content/drive')"
   ]
  },
  {
   "cell_type": "code",
   "execution_count": null,
   "metadata": {},
   "outputs": [],
   "source": [
    "pip install -r '/content/drive/My Drive/Colab Notebooks/RL-CartPole Project/requirements.txt'"
   ]
  },
  {
   "cell_type": "code",
   "execution_count": null,
   "metadata": {
    "collapsed": true
   },
   "outputs": [],
   "source": [
    "import tensorflow as tf\n",
    "import numpy as np\n",
    "import gym\n",
    "import yaml\n",
    "import os"
   ]
  },
  {
   "cell_type": "code",
   "execution_count": null,
   "metadata": {
    "pycharm": {
     "name": "#%%\n"
    }
   },
   "outputs": [],
   "source": [
    "def model_v1():\n",
    "    model = tf.keras.Sequential()\n",
    "    model.add(tf.keras.layers.Dense(units = 32, input_dim = 4, activation = 'relu', dtype = tf.float32))\n",
    "    model.add(tf.keras.layers.Dense(units = 2, activation = 'softmax', dtype = tf.float32))\n",
    "    model.build()\n",
    "    return model\n",
    "\n",
    "def model_v2():\n",
    "    model = tf.keras.Sequential()\n",
    "    model.add(tf.keras.layers.Dense(units = 32, input_dim = 4, activation = 'relu', dtype = tf.float32))\n",
    "    model.add(tf.keras.layers.Dense(units = 32, input_dim = 4, activation = 'relu', dtype = tf.float32))\n",
    "    model.add(tf.keras.layers.Dense(units = 32, input_dim = 4, activation = 'relu', dtype = tf.float32))\n",
    "    model.add(tf.keras.layers.Dense(units = 2, activation = 'softmax', dtype = tf.float32))\n",
    "    return model\n",
    "\n",
    "def model_v3():\n",
    "    model = tf.keras.Sequential()\n",
    "    model.add(tf.keras.layers.Dense(units = 32, input_dim = 4, activation = 'relu', dtype = tf.float32))\n",
    "    model.add(tf.keras.layers.Dense(units = 32, input_dim = 32, activation = 'relu', dtype = tf.float32))\n",
    "    model.add(tf.keras.layers.Dense(units = 32, input_dim = 32, activation = 'relu', dtype = tf.float32))\n",
    "    model.add(tf.keras.layers.Dense(units = 32, input_dim = 32, activation = 'relu', dtype = tf.float32))\n",
    "    model.add(tf.keras.layers.Dense(units = 32, input_dim = 32, activation = 'relu', dtype = tf.float32))\n",
    "    model.add(tf.keras.layers.Dense(units = 2, activation = 'softmax', dtype = tf.float32))\n",
    "    return model\n",
    "\n",
    "def model_v4():\n",
    "    model = tf.keras.Sequential()\n",
    "    model.add(tf.keras.layers.Dense(units = 32, input_dim = 4, activation = 'relu', dtype = tf.float32))\n",
    "    model.add(tf.keras.layers.Dense(units = 32, input_dim = 4, activation = 'relu', dtype = tf.float32))\n",
    "    model.add(tf.keras.layers.Dense(units = 32, input_dim = 4, activation = 'relu', dtype = tf.float32))\n",
    "    model.add(tf.keras.layers.Dense(units = 32, input_dim = 4, activation = 'relu', dtype = tf.float32))\n",
    "    model.add(tf.keras.layers.Dense(units = 32, input_dim = 4, activation = 'relu', dtype = tf.float32))\n",
    "    model.add(tf.keras.layers.Dense(units = 2, activation = 'softmax', dtype = tf.float32))\n",
    "    return model"
   ]
  },
  {
   "cell_type": "code",
   "execution_count": null,
   "metadata": {
    "pycharm": {
     "name": "#%%\n"
    }
   },
   "outputs": [],
   "source": [
    "def discount_rewards(rewards, discount_rate = 0.8):\n",
    "  \"\"\"\n",
    "\n",
    "  :param rewards:\n",
    "  :param discount_rate:\n",
    "  :return:\n",
    "  \"\"\"\n",
    "\n",
    "  discounted_rewards = np.zeros_like(a = rewards)\n",
    "  running_total = 0\n",
    "  for i in reversed(range(0, rewards.size)):\n",
    "    running_total = running_total * discount_rate + rewards[i]\n",
    "    discounted_rewards[i] = running_total\n",
    "  return discounted_rewards"
   ]
  },
  {
   "cell_type": "code",
   "execution_count": null,
   "metadata": {
    "pycharm": {
     "name": "#%%\n"
    }
   },
   "outputs": [],
   "source": [
    "def train_model(num_episodes, model_version, discount_rate, learning_rate):\n",
    "    \"\"\"\n",
    "\n",
    "    :param num_epochs:\n",
    "    :param model_version:\n",
    "    :param discount_rate:\n",
    "    :param learning_rate:\n",
    "    :return:\n",
    "    \"\"\"\n",
    "\n",
    "    # getting available models\n",
    "    with open('/content/drive/My Drive/Colab Notebooks/RL-CartPole Project/model_architectures.yaml', 'r') as file:\n",
    "        available_models = yaml.safe_load(stream = file)\n",
    "        file.close()\n",
    "\n",
    "    # determining model sub-version\n",
    "    model_sub_version_write = False\n",
    "    sub_version = 0\n",
    "    while not model_sub_version_write:\n",
    "        if not os.path.exists(os.path.join('/content/drive/My Drive/Colab Notebooks/RL-CartPole Project/',\n",
    "                                           'trained_models', model_version, model_version + '.' + str(sub_version) + '.0')):\n",
    "            model_sub_version_write = True\n",
    "            break\n",
    "        sub_version += 1\n",
    "\n",
    "    # input checks\n",
    "    if type(num_episodes) != int:\n",
    "        raise TypeError('num_episodes must be of type int')\n",
    "    if num_episodes <= 0:\n",
    "        raise ValueError('num_episodes must be greater than zero')\n",
    "    if type(model_version) != str:\n",
    "        raise TypeError('model_version must be of type string')\n",
    "    if model_version not in available_models:\n",
    "        raise ValueError('model_version not available')\n",
    "    if type(discount_rate) != int and type(discount_rate) != float:\n",
    "        raise TypeError('discount rate must be of type int or float')\n",
    "    if discount_rate <= 0:\n",
    "        raise ValueError('discount_rate must be greater than zero')\n",
    "    if type(learning_rate) != float:\n",
    "        raise TypeError('learning_rate must be of type float')\n",
    "    if learning_rate <= 0 or learning_rate >= 1:\n",
    "        raise ValueError('learning_rate must be within (0, 1)')\n",
    "\n",
    "    # building model\n",
    "    model = eval(available_models[model_version])()\n",
    "    optimizer = tf.keras.optimizers.Adam(learning_rate = learning_rate)\n",
    "    compute_loss = tf.keras.losses.SparseCategoricalCrossentropy(from_logits = True)\n",
    "\n",
    "    # holding gradients\n",
    "    gradient_holder = model.trainable_variables\n",
    "    for i, gradient in enumerate(gradient_holder):\n",
    "        gradient_holder[i] = gradient * 0\n",
    "\n",
    "    env = gym.make('CartPole-v1')\n",
    "    scores = []\n",
    "    every_update = 5\n",
    "\n",
    "    gradient_holder = model.trainable_variables\n",
    "    for i, grad in enumerate(gradient_holder):\n",
    "        gradient_holder[i] = grad * 0\n",
    "\n",
    "    for episode in range(num_episodes + 1):\n",
    "        observation = env.reset()\n",
    "\n",
    "        episode_memory = []\n",
    "        episode_score = 0\n",
    "        done = False\n",
    "\n",
    "        while not done:\n",
    "            observation = observation.reshape([1, 4])\n",
    "\n",
    "            with tf.GradientTape() as tape:\n",
    "\n",
    "                logits = model(observation)\n",
    "                a_dist = logits.numpy()\n",
    "                action = np.random.choice(a_dist[0], p = a_dist[0])\n",
    "                action = np.argmax(a_dist == action)\n",
    "                loss = compute_loss([action], logits)\n",
    "\n",
    "            observation, reward, done, info = env.step(action)\n",
    "\n",
    "            episode_score += reward\n",
    "\n",
    "            if done:\n",
    "                reward -= 10\n",
    "\n",
    "            gradients = tape.gradient(target = loss, sources = model.trainable_variables)\n",
    "            episode_memory.append([gradients, reward])\n",
    "\n",
    "        scores.append(episode_score)\n",
    "\n",
    "        episode_memory = np.array(episode_memory)\n",
    "        episode_memory[:, 1] = discount_rewards(rewards = episode_memory[:, 1], discount_rate = discount_rate)\n",
    "\n",
    "        for grads, reward in episode_memory:\n",
    "            for i, grad in enumerate(grads):\n",
    "                gradient_holder[i] += grad * reward\n",
    "\n",
    "        if episode % every_update == 0:\n",
    "            optimizer.apply_gradients(zip(gradient_holder, model.trainable_variables))\n",
    "            for i, grad in enumerate(gradient_holder):\n",
    "                gradient_holder[i] = grad * 0\n",
    "\n",
    "        if episode % 100 == 0:\n",
    "            print('Episode {} Score {}'.format(episode, np.mean(scores[-20:])))\n",
    "            tf.keras.models.save_model(model = model,\n",
    "                                       filepath = os.path.join('/content/drive/My Drive/Colab Notebooks/RL-CartPole Project/', \n",
    "                                                               'trained_models', model_version, model_version + '.' +\n",
    "                                                               str(sub_version) +'.{}'.format(episode)))\n",
    "            tf.keras.models.save_model(model = model,\n",
    "                                       filepath = os.path.join('/content/',\n",
    "                                                               'trained_models', model_version, model_version + '.' +\n",
    "                                                               str(sub_version) +'.{}'.format(episode)))\n",
    "\n",
    "    final_performance = int(round(np.mean(scores[-20:])))\n",
    "\n",
    "    # dumping training results into yaml file\n",
    "    yaml_dump = {}\n",
    "    yaml_dump['Model Version'] = model_version\n",
    "    yaml_dump['Model Sub-version'] = sub_version\n",
    "    yaml_dump['Number of Training Episodes'] = num_episodes\n",
    "    yaml_dump['Discount Rate'] = discount_rate\n",
    "    yaml_dump['Learning Rate'] = learning_rate\n",
    "    yaml_dump['Final Performance'] = final_performance\n",
    "\n",
    "    with open(os.path.join('/content/drive/My Drive/Colab Notebooks/RL-CartPole Project/', \n",
    "                           'trained_models', model_version, model_version + '.' + \n",
    "                           str(sub_version) + '_training_details.yaml'), 'w') as file:\n",
    "        yaml.dump(data = yaml_dump, stream = file)\n",
    "        file.close()\n",
    "        \n",
    "    with open(os.path.join('/content/trained_models', model_version + '.' + str(sub_version) + '_training_details.yaml'), 'w') as file:\n",
    "        yaml.dump(data = yaml_dump, stream = file)\n",
    "        file.close()"
   ]
  },
  {
   "cell_type": "code",
   "execution_count": null,
   "metadata": {
    "pycharm": {
     "name": "#%%\n"
    }
   },
   "outputs": [],
   "source": [
    "num_episodes = 600\n",
    "model_version = 'v4'\n",
    "discount_rate = 0.8\n",
    "learning_rate = 0.01\n",
    "\n",
    "train_model(num_episodes = num_episodes, model_version = model_version,\n",
    "                discount_rate = discount_rate, learning_rate = learning_rate)"
   ]
  },
  {
   "cell_type": "code",
   "execution_count": null,
   "metadata": {
    "pycharm": {
     "name": "#%%\n"
    }
   },
   "outputs": [],
   "source": [
    "\n"
   ]
  }
 ],
 "metadata": {
  "kernelspec": {
   "display_name": "Python 3",
   "language": "python",
   "name": "python3"
  },
  "language_info": {
   "codemirror_mode": {
    "name": "ipython",
    "version": 3
   },
   "file_extension": ".py",
   "mimetype": "text/x-python",
   "name": "python",
   "nbconvert_exporter": "python",
   "pygments_lexer": "ipython3",
   "version": "3.7.4"
  },
  "pycharm": {
   "stem_cell": {
    "cell_type": "raw",
    "source": [],
    "metadata": {
     "collapsed": false
    }
   }
  }
 },
 "nbformat": 4,
 "nbformat_minor": 1
}